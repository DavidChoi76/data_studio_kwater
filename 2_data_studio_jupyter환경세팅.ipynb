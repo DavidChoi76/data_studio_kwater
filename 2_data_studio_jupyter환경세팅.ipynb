{
 "cells": [
  {
   "cell_type": "markdown",
   "id": "32c6a088-9c8e-4c42-a681-4d134b1d5d29",
   "metadata": {
    "tags": []
   },
   "source": [
    "# Data Studio Jupyter 환경 세팅"
   ]
  },
  {
   "cell_type": "markdown",
   "id": "2766351a-d87f-406c-bd0f-3366b5e7e97d",
   "metadata": {},
   "source": [
    "## 1. New Conda 환경 만들기"
   ]
  },
  {
   "cell_type": "markdown",
   "id": "6c44656c-31da-4df7-935c-f6c3fa81abac",
   "metadata": {},
   "source": [
    "- python은 open source 프로그래밍 언어로써 각 라이브러리들이 개별로 개발되기 때문에 라이브러리별 버전 충돌이 자주 발생하게 됩니다. 이를 방지하기 위해서 프로젝트별 새로운 conda환경을 만들어서 python 코드를 개발함으로써 버전충돌을 방지할 수 있습니다."
   ]
  },
  {
   "cell_type": "code",
   "execution_count": null,
   "id": "94d825ef-e7a1-44eb-82ae-95a751862dfc",
   "metadata": {
    "tags": []
   },
   "outputs": [],
   "source": [
    "# 현재 나의 계정에 설치된 conda 환경 확인\n",
    "!conda env list"
   ]
  },
  {
   "cell_type": "code",
   "execution_count": null,
   "id": "363c6383-3ab2-4b94-bfa6-88faa23b79f1",
   "metadata": {
    "tags": []
   },
   "outputs": [],
   "source": [
    "# new conda 환경 이름 설정, 본 예시에서는 \"pytorch\"를 new conda 환경이름으로 설정\n",
    "new_conda = \"pytorch\""
   ]
  },
  {
   "cell_type": "code",
   "execution_count": null,
   "id": "06ab0554-eb65-4586-817f-643b9126b453",
   "metadata": {
    "tags": []
   },
   "outputs": [],
   "source": [
    "!conda create -n {new_conda} -y python=3.10"
   ]
  },
  {
   "cell_type": "markdown",
   "id": "619b4525-5b60-4189-a6b5-26fd6a94af3b",
   "metadata": {},
   "source": [
    "## 2. New Conda 환경에 Jupyter Kernel 설치"
   ]
  },
  {
   "cell_type": "markdown",
   "id": "e7a7f4b0-bc65-40ca-a986-b25274d01974",
   "metadata": {},
   "source": [
    "- 먼저 1) refresh버튼을 Click하고, 2) + 버튼을 클릭하면 두번째 그럼과 같이 런처탭이 추가되며 pytorch 커널이 추가되었음을 확인할 수 있습니다"
   ]
  },
  {
   "cell_type": "markdown",
   "id": "d7178b0f-0ef3-4bc5-b95d-eb1018cb34ac",
   "metadata": {
    "tags": []
   },
   "source": [
    "![title](kernels.png)"
   ]
  },
  {
   "cell_type": "markdown",
   "id": "2ebefeac-33b3-47b2-af28-8201b5c3635c",
   "metadata": {
    "tags": []
   },
   "source": [
    "![title](torch_kernel.png)"
   ]
  },
  {
   "cell_type": "code",
   "execution_count": null,
   "id": "eac0406a-1d27-431e-9a24-2d01f7879fb0",
   "metadata": {
    "tags": []
   },
   "outputs": [],
   "source": [
    "!/opt/conda/envs/{new_conda}/bin/pip install ipykernel"
   ]
  },
  {
   "cell_type": "code",
   "execution_count": null,
   "id": "669b647f-4bcc-42e3-af55-2d796d99dc09",
   "metadata": {
    "tags": []
   },
   "outputs": [],
   "source": [
    "!/opt/conda/envs/{new_conda}/bin/python -m ipykernel install --user --name {new_conda} --display-name pytorch"
   ]
  }
 ],
 "metadata": {
  "kernelspec": {
   "display_name": "Python 3 (ipykernel)",
   "language": "python",
   "name": "python3"
  },
  "language_info": {
   "codemirror_mode": {
    "name": "ipython",
    "version": 3
   },
   "file_extension": ".py",
   "mimetype": "text/x-python",
   "name": "python",
   "nbconvert_exporter": "python",
   "pygments_lexer": "ipython3",
   "version": "3.10.12"
  }
 },
 "nbformat": 4,
 "nbformat_minor": 5
}
