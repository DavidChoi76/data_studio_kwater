{
 "cells": [
  {
   "cell_type": "markdown",
   "id": "3f88930e-92aa-4aba-836f-8ad36f2bab2f",
   "metadata": {},
   "source": [
    "# Data Studio Computing 환경 확인"
   ]
  },
  {
   "cell_type": "markdown",
   "id": "2b83f457-ed47-4139-8a21-6d9b77506496",
   "metadata": {},
   "source": [
    "## 1. Linux 환경 확인"
   ]
  },
  {
   "cell_type": "markdown",
   "id": "25ca6fa9-79f8-43b3-a80e-bda827b0e32a",
   "metadata": {},
   "source": [
    "### 1.1 Ubuntu OS Version Check in jupyterLab of Data Studio"
   ]
  },
  {
   "cell_type": "code",
   "execution_count": null,
   "id": "970cd65a-80a7-4726-8b72-bb1be9071a6c",
   "metadata": {
    "tags": []
   },
   "outputs": [],
   "source": [
    "!cat /etc/*elease"
   ]
  },
  {
   "cell_type": "markdown",
   "id": "e5111e78-8a1d-49a6-a6e7-84b2e87c467b",
   "metadata": {},
   "source": [
    "### 1.2 이용가능한 Storage 공간 확인"
   ]
  },
  {
   "cell_type": "code",
   "execution_count": null,
   "id": "46ccdeee-55e8-49f3-80b6-bb87403d747a",
   "metadata": {
    "tags": []
   },
   "outputs": [],
   "source": [
    "!df -h"
   ]
  },
  {
   "cell_type": "markdown",
   "id": "a6d183b2-7883-4185-9e45-ac4104b65f8e",
   "metadata": {},
   "source": [
    "## 2. GPU 세팅에 대한 확인"
   ]
  },
  {
   "cell_type": "markdown",
   "id": "89d6f26a-b8a5-4611-bc0e-9d09ffb04246",
   "metadata": {},
   "source": [
    "### 2.1 NVIDIA GPU Driver 및 설치에 대한 확인"
   ]
  },
  {
   "cell_type": "markdown",
   "id": "badd393c-cdbc-4da2-88e7-142cac2e2793",
   "metadata": {},
   "source": [
    "- GPU 사용을 위해서는 NVIDIA에서 제공하는 GPU Driver를 OS에 맞게 설치해야 하며 아래의 명령어를 통해서 설치된 GPU에 대한 정보를 얻을 수 있음"
   ]
  },
  {
   "cell_type": "markdown",
   "id": "18587334-0396-44f7-b118-706ac69141d2",
   "metadata": {},
   "source": [
    "1) Driver Version: 현재 설치되어 사용하고 있는 nvidia GPU의 driver version\n",
    "2) CUDA Version: 현재 사용하고 있는 driver와 호환이 잘 되는 CUDA의 version \n",
    "3) GPU: 현재 설치되어 있는 GPU의 번호로 이용가능한 GPU의 개수를 확인할 수 있으며 0, 1 2개의 GPU 이용가능함\n",
    "4) Name: GPU의 model명으로 현재 Data Studio에는 Tesla V100 2대가 이용가능함"
   ]
  },
  {
   "cell_type": "code",
   "execution_count": null,
   "id": "d870999c-46ab-4ec3-bcee-8705e82364b3",
   "metadata": {
    "tags": []
   },
   "outputs": [],
   "source": [
    "!nvidia-smi"
   ]
  },
  {
   "cell_type": "markdown",
   "id": "d9a15db7-04b4-40da-8698-6f53b1486801",
   "metadata": {},
   "source": [
    "### 2.2 Runtime CUDA 버전의 확인"
   ]
  },
  {
   "cell_type": "markdown",
   "id": "3dc880ea-41ee-46b1-a2a0-06698ba5e1d7",
   "metadata": {},
   "source": [
    "* 일반적으로 위의 CUDA Driver 버전 11.1와 Runtime CUDA 버전 11.2에서 Version 11.* 의 11버전은 맞춰줄 것을 추천하며, 현재 Data Studio에는 잘 설치가 되어 있어서 이에 맞게 pytorch 등 Deep Learning을 위한 Python libraries를 설치하면 됩니다."
   ]
  },
  {
   "cell_type": "code",
   "execution_count": null,
   "id": "5330d296-f2d0-4a3b-bf5a-1f6074974ff6",
   "metadata": {
    "tags": []
   },
   "outputs": [],
   "source": [
    "!nvcc --version"
   ]
  }
 ],
 "metadata": {
  "kernelspec": {
   "display_name": "Python 3 (ipykernel)",
   "language": "python",
   "name": "python3"
  },
  "language_info": {
   "codemirror_mode": {
    "name": "ipython",
    "version": 3
   },
   "file_extension": ".py",
   "mimetype": "text/x-python",
   "name": "python",
   "nbconvert_exporter": "python",
   "pygments_lexer": "ipython3",
   "version": "3.10.12"
  }
 },
 "nbformat": 4,
 "nbformat_minor": 5
}
