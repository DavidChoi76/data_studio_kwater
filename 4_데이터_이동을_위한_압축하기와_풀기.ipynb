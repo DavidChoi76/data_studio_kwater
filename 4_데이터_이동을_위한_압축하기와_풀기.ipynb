{
 "cells": [
  {
   "cell_type": "markdown",
   "id": "1f87670b-83d3-4a26-9fec-7d880b44d34d",
   "metadata": {},
   "source": [
    "# Data Studio에서 데이터 이동을 위한 압축하기와 압축 풀기"
   ]
  },
  {
   "cell_type": "markdown",
   "id": "9846144b-f2e1-4443-b0c5-96acfe5c89d3",
   "metadata": {},
   "source": [
    "- 본 절차는 Data Studio에서 다양한 분석을 수행 후 \n",
    "  1) 분석한 데이터를 한번에 압축파일을 만들어서 다운받는 방법\n",
    "  2) K-water 내부서버 등에서 분석을 위한 대용량의 데이터를 압축해서 Data Studio에 올린 후 압축을 풀어서 사용하기 위한 예시 입니다."
   ]
  },
  {
   "cell_type": "markdown",
   "id": "71f74fb5-a4a9-45e2-ad64-770ee27a04b0",
   "metadata": {},
   "source": [
    "## 1. 폴더내 전체데이터를 압축하는 방법"
   ]
  },
  {
   "cell_type": "markdown",
   "id": "6995d6dc-b786-4434-b536-6ac613015cf1",
   "metadata": {},
   "source": [
    "- 현재 작업 중인 폴더명 확인"
   ]
  },
  {
   "cell_type": "code",
   "execution_count": 1,
   "id": "8b1d0a75-f92f-43f6-8e34-c3328e4053a7",
   "metadata": {
    "tags": []
   },
   "outputs": [
    {
     "name": "stdout",
     "output_type": "stream",
     "text": [
      "/home/user\n"
     ]
    }
   ],
   "source": [
    "!pwd"
   ]
  },
  {
   "cell_type": "markdown",
   "id": "867e711c-c297-471c-a01a-ffcb0ad0305d",
   "metadata": {
    "tags": []
   },
   "source": [
    "- 압축할 폴더명 지정"
   ]
  },
  {
   "cell_type": "code",
   "execution_count": 2,
   "id": "1c02758e-3646-4b7f-92f2-0cafef453daa",
   "metadata": {
    "tags": []
   },
   "outputs": [],
   "source": [
    "import shutil, os\n",
    "# 폴더별 지정\n",
    "name = \"0_environments_setting\"  # data_studio_setting_examples"
   ]
  },
  {
   "cell_type": "markdown",
   "id": "c0a57c28-f2ab-417f-97f4-c4e565a0cb8c",
   "metadata": {},
   "source": [
    "- 위에서 지정한 이름으로 폴더내 모든 데이터를 압축하기"
   ]
  },
  {
   "cell_type": "code",
   "execution_count": 3,
   "id": "f12460bd-ebf0-4127-9e29-3d30a99716f0",
   "metadata": {
    "tags": []
   },
   "outputs": [
    {
     "data": {
      "text/plain": [
       "'/home/user/0_environments_setting.zip'"
      ]
     },
     "execution_count": 3,
     "metadata": {},
     "output_type": "execute_result"
    }
   ],
   "source": [
    "zip_name = os.path.join(\"/home/user\", name)\n",
    "shutil.make_archive(name, 'zip', zip_name)"
   ]
  },
  {
   "cell_type": "markdown",
   "id": "cd11a120-fde9-4f5b-9771-3dd8a9b01793",
   "metadata": {},
   "source": [
    "## 2. 외부에서 가져온 데이터 압축을 푸는 방버"
   ]
  },
  {
   "cell_type": "markdown",
   "id": "d7f7c2e5-744e-4c91-8187-e752eeeadff0",
   "metadata": {},
   "source": [
    "- zip 폴더를 압축을 풀고자 하는 폴더로 이동하여 아래의 명령을 통해서 압축을 풀어서 데이터를 분석에 활용하면 됩니다."
   ]
  },
  {
   "cell_type": "code",
   "execution_count": 4,
   "id": "4895ef52-c10c-445f-8fc5-63944f3513cf",
   "metadata": {
    "tags": []
   },
   "outputs": [
    {
     "name": "stdout",
     "output_type": "stream",
     "text": [
      "Archive:  0_environments_setting.zip\n",
      "  inflating: 1. 기본 지식을 위한 Notebook - Linux 환경 이용관련.ipynb  \n",
      "  inflating: 2. 기본 지식을 위한 Notebook - Jupyter 환경 이용관련.ipynb  \n",
      "  inflating: 2_conda환경설치.ipynb  \n",
      "  inflating: pytorch_install.png     \n",
      "  inflating: 3_pytorch 및 그외 python 라이브러리설치.ipynb  \n",
      "  inflating: torch_kernel.png        \n",
      "  inflating: pytorch_install_1.png   \n",
      "  inflating: kernels.png             \n",
      "  inflating: new_kernel.png          \n",
      "  inflating: .ipynb_checkpoints/1. 기본 지식을 위한 Notebook - Linux 환경 이용관련-checkpoint.ipynb  \n",
      "  inflating: .ipynb_checkpoints/2. 기본 지식을 위한 Notebook - Jupyter 환경 이용관련-checkpoint.ipynb  \n",
      "  inflating: .ipynb_checkpoints/2_conda환경설치-checkpoint.ipynb  \n",
      "  inflating: .ipynb_checkpoints/3_pytorch 및 그외 python 라이브러리설치-checkpoint.ipynb  \n",
      "  inflating: .ipynb_checkpoints/new_kernel-checkpoint.png  \n"
     ]
    }
   ],
   "source": [
    "!unzip 0_environments_setting.zip"
   ]
  }
 ],
 "metadata": {
  "kernelspec": {
   "display_name": "pytorch",
   "language": "python",
   "name": "pytorch"
  },
  "language_info": {
   "codemirror_mode": {
    "name": "ipython",
    "version": 3
   },
   "file_extension": ".py",
   "mimetype": "text/x-python",
   "name": "python",
   "nbconvert_exporter": "python",
   "pygments_lexer": "ipython3",
   "version": "3.10.14"
  }
 },
 "nbformat": 4,
 "nbformat_minor": 5
}
