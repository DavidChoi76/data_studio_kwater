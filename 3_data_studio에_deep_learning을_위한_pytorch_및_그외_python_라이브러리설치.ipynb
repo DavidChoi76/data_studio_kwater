{
 "cells": [
  {
   "cell_type": "markdown",
   "id": "8782c954-2859-4bc9-b790-e5f478f182a3",
   "metadata": {
    "tags": []
   },
   "source": [
    "# Data Studio에 Deep Learning을 위한 Pytorch 설치하기"
   ]
  },
  {
   "cell_type": "markdown",
   "id": "804fe9f4-f6a1-47c9-8e9f-7792dfc17f8a",
   "metadata": {},
   "source": [
    "- 오른쪽 상단의 default로 지정된 Python 3 (ipykernel)을 click해서 2번째 노트북에서 새롭게 생성한 conda 환경의 명칭을 지정하여 변경하고 본 절차를 진행하시기 바랍니다"
   ]
  },
  {
   "cell_type": "markdown",
   "id": "7876f189-385f-43b7-8d0e-ac9e84ed4d8e",
   "metadata": {
    "tags": []
   },
   "source": [
    "![title](new_kernel.png)"
   ]
  },
  {
   "cell_type": "markdown",
   "id": "a5c305fa-0c58-415d-91dc-62d674b14fa2",
   "metadata": {},
   "source": [
    "## 1. CUDA 버전 확인 및 버전에 맞는 Pytorch 설치"
   ]
  },
  {
   "cell_type": "markdown",
   "id": "8bc14f23-f808-4e91-981d-0c97d731791a",
   "metadata": {},
   "source": [
    " - 첫번째 notebook에서 GPU Driver의 CUDA version 및 Runtime CUDA version의 확인결과 각각 11.1과 11.2이며 pytorch install website(https://pytorch.org/get-started/previous-versions/) 에서 버전에 맞는 설치가능한 pytorch버전의 확인결과 아래와 같이 CUDA 11.3버전이 설치가능합ㄴ다. CUDA 11.1버전이 있으나 설치가 되지 않아서 CUDA 11.3버전을 설치하였습니다."
   ]
  },
  {
   "cell_type": "markdown",
   "id": "1d331e41-6eeb-44ae-a55a-c916119f40f9",
   "metadata": {},
   "source": [
    "![title](pytorch_install_1.png)"
   ]
  },
  {
   "cell_type": "code",
   "execution_count": null,
   "id": "8c642fcd-a917-42a3-8bff-c57d500580f1",
   "metadata": {
    "tags": []
   },
   "outputs": [],
   "source": [
    "# new conda 환경 이름 설정\n",
    "new_conda = \"pytorch\""
   ]
  },
  {
   "cell_type": "code",
   "execution_count": null,
   "id": "e90ef5ab-d4bb-4f2e-a90a-8be9fabe5d0d",
   "metadata": {
    "tags": []
   },
   "outputs": [],
   "source": [
    "!/opt/conda/envs/{new_conda}/bin/pip install torch==1.12.1+cu113 torchvision==0.13.1+cu113 torchaudio==0.12.1 --extra-index-url https://download.pytorch.org/whl/cu113"
   ]
  },
  {
   "cell_type": "markdown",
   "id": "646f51e1-1147-41af-ab85-efb60647af3a",
   "metadata": {},
   "source": [
    "## 2. pytorch가 잘 설치되었는지 확인"
   ]
  },
  {
   "cell_type": "markdown",
   "id": "812ce026-3cb8-4c44-95d2-bb410cfd47bd",
   "metadata": {},
   "source": [
    "- 아래의 torch.cuda.is_available() 의 명령을 실행 후 \"True\"의 결과가 나오면 pytorch가 GPU와 잘 연결되어서 사용이 가능한 상태임을 나타냅니다"
   ]
  },
  {
   "cell_type": "code",
   "execution_count": null,
   "id": "2cb69458-32dd-4aff-93d1-1064f332ef19",
   "metadata": {
    "tags": []
   },
   "outputs": [],
   "source": [
    "import torch"
   ]
  },
  {
   "cell_type": "code",
   "execution_count": null,
   "id": "6d2406d8-df1e-407b-9349-9ba91b9e63a2",
   "metadata": {
    "tags": []
   },
   "outputs": [],
   "source": [
    "torch.cuda.is_available()"
   ]
  },
  {
   "cell_type": "markdown",
   "id": "51952f85-593f-4a77-80ed-c1ef7e46c3f5",
   "metadata": {},
   "source": [
    "## 3. 추가적으로 필요한 Python 라이브러리 설치하기"
   ]
  },
  {
   "cell_type": "markdown",
   "id": "e75dcae9-5dbf-43c0-80fa-30caaf8a72ec",
   "metadata": {},
   "source": [
    "- 아래는 예시이므로 필요한 라이브러리만 설치하면 됩니다."
   ]
  },
  {
   "cell_type": "code",
   "execution_count": null,
   "id": "00e534ef-b823-4791-a5ad-d0594f21aba9",
   "metadata": {},
   "outputs": [],
   "source": [
    "!/opt/conda/envs/{new_conda}/bin/pip install pandas"
   ]
  },
  {
   "cell_type": "code",
   "execution_count": null,
   "id": "7c95ba0e-5941-4db0-a605-a9c44e14e657",
   "metadata": {},
   "outputs": [],
   "source": [
    "!/opt/conda/envs/{new_conda}/bin/pip install xgboost"
   ]
  },
  {
   "cell_type": "code",
   "execution_count": null,
   "id": "f5c4c19b-43c7-4b52-b12c-5f3c01264bb4",
   "metadata": {},
   "outputs": [],
   "source": [
    "!/opt/conda/envs/{new_conda}/bin/pip install scikit-learn"
   ]
  },
  {
   "cell_type": "code",
   "execution_count": null,
   "id": "7c5a2843-5ded-442c-b9ca-2ba16c3ddc87",
   "metadata": {},
   "outputs": [],
   "source": [
    "!/opt/conda/envs/{new_conda}/bin/pip install matplotlib"
   ]
  },
  {
   "cell_type": "markdown",
   "id": "e3b0408e-10ef-4863-876c-6ee9798a9746",
   "metadata": {},
   "source": [
    "## 4. Python library Version 확인하기"
   ]
  },
  {
   "cell_type": "code",
   "execution_count": null,
   "id": "bafe40f2-db2b-47e3-b80b-714721250f55",
   "metadata": {},
   "outputs": [],
   "source": [
    "import pandas as pd\n",
    "print(pd.__version__)"
   ]
  }
 ],
 "metadata": {
  "kernelspec": {
   "display_name": "Python 3 (ipykernel)",
   "language": "python",
   "name": "python3"
  },
  "language_info": {
   "codemirror_mode": {
    "name": "ipython",
    "version": 3
   },
   "file_extension": ".py",
   "mimetype": "text/x-python",
   "name": "python",
   "nbconvert_exporter": "python",
   "pygments_lexer": "ipython3",
   "version": "3.10.12"
  }
 },
 "nbformat": 4,
 "nbformat_minor": 5
}
